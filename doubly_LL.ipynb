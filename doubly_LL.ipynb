{
 "cells": [
  {
   "cell_type": "code",
   "execution_count": null,
   "id": "b78e10a4",
   "metadata": {},
   "outputs": [],
   "source": [
    "# Adding a node at the front of the list\n",
    "\n",
    "def push(self, new_data):\n",
    "    # 1 & 2: Allocate the Node & Put in the data\n",
    "    nn = Node(data = new_data)\n",
    "    \n",
    "    # 3. Make next of new node as head and previous as NULL\n",
    "    nn.next = self.head\n",
    "    nn.prev = none\n",
    "    \n",
    "    # 4. Change prev of head node to new node\n",
    "    if(self.head is not None):\n",
    "        self.head.prev = nn\n",
    "        \n",
    "    # 5. move the head to point to the new node\n",
    "    self.head = nn"
   ]
  },
  {
   "cell_type": "code",
   "execution_count": null,
   "id": "d8bb6dc1",
   "metadata": {},
   "outputs": [],
   "source": [
    "# Given a node as prev_node, insert a new node after the given node\n",
    "\n",
    "def insertAfter(self, prev_node, new_data):\n",
    " \n",
    "    # Check if the given prev_node is NULL\n",
    "    if(prev_node is None):\n",
    "        print(\"Node doesn't exist in DLL !\")\n",
    "        return\n",
    "    \n",
    "    # 1. allocate node  & \n",
    "    # 2. put in the data\n",
    "    nn = Node(data = new_data)\n",
    "    \n",
    "    # 3. Make next of new node as next of prev_node\n",
    "    nn.next = prev_node.next\n",
    "    \n",
    "    # 4. Make the next of prev_node as new_node\n",
    "    prev_node.next = nn\n",
    "    \n",
    "    # 5. Make prev_node as previous of new_node\n",
    "    nn.prev = prev_node\n",
    "    \n",
    "    # 6. Change previous of new_node's next node\n",
    "    if(nn.next is not None):\n",
    "        nn.next.prev = nn\n",
    "    "
   ]
  },
  {
   "cell_type": "code",
   "execution_count": null,
   "id": "8cdb8857",
   "metadata": {},
   "outputs": [],
   "source": []
  },
  {
   "cell_type": "code",
   "execution_count": null,
   "id": "320b934c",
   "metadata": {},
   "outputs": [],
   "source": []
  },
  {
   "cell_type": "code",
   "execution_count": null,
   "id": "011b31da",
   "metadata": {},
   "outputs": [],
   "source": []
  }
 ],
 "metadata": {
  "kernelspec": {
   "display_name": "Python 3 (ipykernel)",
   "language": "python",
   "name": "python3"
  },
  "language_info": {
   "codemirror_mode": {
    "name": "ipython",
    "version": 3
   },
   "file_extension": ".py",
   "mimetype": "text/x-python",
   "name": "python",
   "nbconvert_exporter": "python",
   "pygments_lexer": "ipython3",
   "version": "3.11.4"
  }
 },
 "nbformat": 4,
 "nbformat_minor": 5
}
